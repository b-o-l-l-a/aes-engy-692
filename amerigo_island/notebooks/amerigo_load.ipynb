{
 "cells": [
  {
   "cell_type": "code",
   "execution_count": 14,
   "metadata": {},
   "outputs": [],
   "source": [
    "import os\n",
    "from openpyxl import load_workbook\n",
    "import pandas as pd\n",
    "\n",
    "BASE_DIR = os.path.dirname(os.path.dirname(os.path.abspath('')))\n",
    "FILE_DIR = 'amerigo_island'\n",
    "DATA_DIR = 'data'\n",
    "\n",
    "data_dir = os.path.join(BASE_DIR, FILE_DIR, DATA_DIR)"
   ]
  },
  {
   "cell_type": "code",
   "execution_count": 5,
   "metadata": {},
   "outputs": [],
   "source": [
    "load_xlsx_filename = 'amerigo_data.xlsx'\n",
    "load_sheetname = 'Load Data'\n",
    "\n",
    "load_xlsx_path = os.path.join(data_dir, load_xlsx_filename)\n",
    "\n",
    "workbook = load_workbook(load_xlsx_path, data_only=True)\n",
    "load_worksheet = workbook[load_sheetname]"
   ]
  },
  {
   "cell_type": "code",
   "execution_count": 6,
   "metadata": {},
   "outputs": [],
   "source": [
    "def XLSXDictReader(sheet, header_row):\n",
    "    rows = sheet.max_row\n",
    "    cols = sheet.max_column\n",
    "\n",
    "    def item(i, j):\n",
    "        return sheet.cell(row=header_row, column=j).value, sheet.cell(row=i, column=j).value\n",
    "\n",
    "    return (dict(item(i, j) for j in range(1, cols + 1)) for i in range(header_row + 1, rows + 1))"
   ]
  },
  {
   "cell_type": "code",
   "execution_count": 51,
   "metadata": {},
   "outputs": [],
   "source": [
    "load_worksheet_vals = [row for row in load_worksheet.values]\n",
    "columns = [\"Date/Time\", \"Amerigo Island Load (MW)\"]\n",
    "\n",
    "load_df = pd.DataFrame(data= load_worksheet_vals[1:], columns=load_worksheet_vals[0])[columns]\n",
    "load_df.columns = [\"datetime\", \"load_in_mw\"]"
   ]
  },
  {
   "cell_type": "code",
   "execution_count": 52,
   "metadata": {},
   "outputs": [
    {
     "data": {
      "text/html": [
       "<div>\n",
       "<style scoped>\n",
       "    .dataframe tbody tr th:only-of-type {\n",
       "        vertical-align: middle;\n",
       "    }\n",
       "\n",
       "    .dataframe tbody tr th {\n",
       "        vertical-align: top;\n",
       "    }\n",
       "\n",
       "    .dataframe thead th {\n",
       "        text-align: right;\n",
       "    }\n",
       "</style>\n",
       "<table border=\"1\" class=\"dataframe\">\n",
       "  <thead>\n",
       "    <tr style=\"text-align: right;\">\n",
       "      <th></th>\n",
       "      <th>datetime</th>\n",
       "      <th>load_in_mw</th>\n",
       "    </tr>\n",
       "  </thead>\n",
       "  <tbody>\n",
       "    <tr>\n",
       "      <th>0</th>\n",
       "      <td>2017-01-01 01:00:00.000000</td>\n",
       "      <td>35.1</td>\n",
       "    </tr>\n",
       "    <tr>\n",
       "      <th>1</th>\n",
       "      <td>2017-01-01 02:00:00.000000</td>\n",
       "      <td>34.6</td>\n",
       "    </tr>\n",
       "    <tr>\n",
       "      <th>2</th>\n",
       "      <td>2017-01-01 02:59:59.999999</td>\n",
       "      <td>34.2</td>\n",
       "    </tr>\n",
       "    <tr>\n",
       "      <th>3</th>\n",
       "      <td>2017-01-01 03:59:59.999999</td>\n",
       "      <td>33.8</td>\n",
       "    </tr>\n",
       "    <tr>\n",
       "      <th>4</th>\n",
       "      <td>2017-01-01 04:59:59.999999</td>\n",
       "      <td>33.4</td>\n",
       "    </tr>\n",
       "  </tbody>\n",
       "</table>\n",
       "</div>"
      ],
      "text/plain": [
       "                    datetime  load_in_mw\n",
       "0 2017-01-01 01:00:00.000000        35.1\n",
       "1 2017-01-01 02:00:00.000000        34.6\n",
       "2 2017-01-01 02:59:59.999999        34.2\n",
       "3 2017-01-01 03:59:59.999999        33.8\n",
       "4 2017-01-01 04:59:59.999999        33.4"
      ]
     },
     "execution_count": 52,
     "metadata": {},
     "output_type": "execute_result"
    }
   ],
   "source": [
    "load_df.head()"
   ]
  },
  {
   "cell_type": "code",
   "execution_count": 53,
   "metadata": {},
   "outputs": [],
   "source": [
    "daily_df = load_df.groupby([load_df[\"datetime\"].dt.date])[\"load_in_mw\"].sum().to_frame()\n",
    "weekly_df = load_df.groupby([load_df[\"datetime\"].dt.week])[\"load_in_mw\"].sum().to_frame()\n",
    "weekly_df.index.name = \"week_num\"\n",
    "monthly_df = load_df.groupby([load_df[\"datetime\"].dt.month])[\"load_in_mw\"].sum().to_frame()"
   ]
  },
  {
   "cell_type": "code",
   "execution_count": 58,
   "metadata": {},
   "outputs": [
    {
     "data": {
      "text/plain": [
       "3600.0689497716894"
      ]
     },
     "execution_count": 58,
     "metadata": {},
     "output_type": "execute_result"
    }
   ],
   "source": [
    "31_536_604 / 8760"
   ]
  },
  {
   "cell_type": "code",
   "execution_count": 59,
   "metadata": {},
   "outputs": [
    {
     "data": {
      "text/plain": [
       "366064.8"
      ]
     },
     "execution_count": 59,
     "metadata": {},
     "output_type": "execute_result"
    }
   ],
   "source": [
    "weekly_df[\"load_in_mw\"].sum()"
   ]
  },
  {
   "cell_type": "code",
   "execution_count": null,
   "metadata": {},
   "outputs": [],
   "source": []
  }
 ],
 "metadata": {
  "kernelspec": {
   "display_name": "Python 3",
   "language": "python",
   "name": "python3"
  },
  "language_info": {
   "codemirror_mode": {
    "name": "ipython",
    "version": 3
   },
   "file_extension": ".py",
   "mimetype": "text/x-python",
   "name": "python",
   "nbconvert_exporter": "python",
   "pygments_lexer": "ipython3",
   "version": "3.8.2"
  }
 },
 "nbformat": 4,
 "nbformat_minor": 4
}
