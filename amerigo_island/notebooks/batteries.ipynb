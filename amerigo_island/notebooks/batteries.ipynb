{
 "cells": [
  {
   "cell_type": "markdown",
   "metadata": {},
   "source": [
    "### Read in relevant data sets"
   ]
  },
  {
   "cell_type": "code",
   "execution_count": 1,
   "metadata": {},
   "outputs": [],
   "source": [
    "import os\n",
    "from openpyxl import load_workbook\n",
    "import pandas as pd\n",
    "from datetime import timedelta\n",
    "\n",
    "BASE_DIR = os.path.dirname(os.path.dirname(os.path.abspath('')))\n",
    "DATA_DIR = os.path.join(BASE_DIR, 'amerigo_island', 'data')\n",
    "\n",
    "xls_filename = 'batteries.xlsm'\n",
    "input_ws_name = 'Basic Inputs'\n",
    "header_col_num = 6 \n",
    "\n",
    "wb = load_workbook(os.path.join(DATA_DIR, xls_filename), data_only=True)\n",
    "input_ws = wb[input_ws_name]\n",
    "\n",
    "input_ws_vals = [row for row in input_ws.values]\n",
    "input_ws_headers = input_ws_vals[header_col_num]\n",
    "\n",
    "orig_load_and_gen_df = pd.DataFrame(data= input_ws_vals[header_col_num + 1:], columns= input_ws_headers)"
   ]
  },
  {
   "cell_type": "markdown",
   "metadata": {},
   "source": [
    "### Create variables for all columns of dataframes"
   ]
  },
  {
   "cell_type": "code",
   "execution_count": 2,
   "metadata": {},
   "outputs": [],
   "source": [
    "date_colname = 'date'\n",
    "load_colname = 'load_mw'\n",
    "solar_gen_colname = 'solar_mw'\n",
    "wind_gen_colname = 'wind_mw'\n",
    "total_vre_gen_colname = 'total_vre_mw'\n",
    "day_of_month_colname = 'day_of_month'\n",
    "day_of_yr_colname = 'day_of_yr'\n",
    "week_of_yr_colname = 'wk_of_yr'\n",
    "month_colname = 'month'\n",
    "year_colname = 'year'\n",
    "weekday_colname = 'weekday'\n",
    "daily_load_vre_diff_colname = 'daily_load_vre_diff'\n",
    "prev_7_load_colname = 'prev_7_load'\n",
    "prev_7_load_vre_diff_colname = 'prev_7_load_vre_diff'\n",
    "prev_7_vre_gen_colname = 'prev_7_vre_gen'\n",
    "critical_load_mw_colname = 'critical_load_mw'\n",
    "critical_load_less_vre_colname = 'critical_load_less_vre_mw'\n",
    "cuml_load_since_prev_charge_colname = 'cuml_load_since_prev_charge_mw'\n",
    "cuml_charge_since_prev_charge_colname = 'cuml_charge_since_prev_discharge_mw'\n",
    "charge_surplus_colname = 'charge_surplus'\n",
    "battery_soc_colname = 'battery_soc'\n",
    "\n",
    "critical_load_perc = .33\n",
    "\n",
    "input_ws_cols = (date_colname, load_colname, wind_gen_colname, solar_gen_colname)"
   ]
  },
  {
   "cell_type": "markdown",
   "metadata": {},
   "source": [
    "### Standardize column names \n",
    "* add columns derived from prev cols"
   ]
  },
  {
   "cell_type": "code",
   "execution_count": 3,
   "metadata": {},
   "outputs": [],
   "source": [
    "load_and_gen_df = orig_load_and_gen_df.copy()\n",
    "load_and_gen_df = load_and_gen_df.iloc[:, [i for i in range(len(input_ws_cols))]]\n",
    "load_and_gen_df.columns = input_ws_cols"
   ]
  },
  {
   "cell_type": "markdown",
   "metadata": {},
   "source": [
    "### Clean vals in existing cols"
   ]
  },
  {
   "cell_type": "code",
   "execution_count": 4,
   "metadata": {},
   "outputs": [],
   "source": [
    "# drop all rows that have all NaNs\n",
    "load_and_gen_df = load_and_gen_df.dropna(how='all')\n",
    "\n",
    "# all solar vals need to be > 0\n",
    "load_and_gen_df[solar_gen_colname] = load_and_gen_df[solar_gen_colname]\\\n",
    "    .apply(lambda x: x if x > 0 else 0)\n",
    "\n",
    "# bringing in date col from xlsx causes date to be x:59:59 instead of x+1:00:00\n",
    "load_and_gen_df[date_colname] = load_and_gen_df[date_colname].map(lambda x: x + timedelta(seconds=1))\n",
    "\n",
    "# add wind and solar to get total VRE / hr\n",
    "load_and_gen_df[total_vre_gen_colname] = load_and_gen_df[wind_gen_colname] + load_and_gen_df[solar_gen_colname]\n",
    "load_and_gen_df[critical_load_mw_colname] = load_and_gen_df[load_colname] * critical_load_perc\n",
    "load_and_gen_df[critical_load_less_vre_colname] = load_and_gen_df[critical_load_mw_colname] - load_and_gen_df[total_vre_gen_colname]\n",
    "load_and_gen_df[charge_surplus_colname] = - load_and_gen_df[critical_load_less_vre_colname]\n",
    "\n",
    "load_and_gen_df[critical_load_less_vre_colname] = load_and_gen_df[critical_load_less_vre_colname]\\\n",
    "    .map(lambda x: x if x > 0 else 0)\n",
    "\n",
    "load_and_gen_df[charge_surplus_colname] = load_and_gen_df[charge_surplus_colname]\\\n",
    "    .map(lambda x: x if x > 0 else 0)"
   ]
  },
  {
   "cell_type": "code",
   "execution_count": 6,
   "metadata": {},
   "outputs": [
    {
     "data": {
      "text/html": [
       "<div>\n",
       "<style scoped>\n",
       "    .dataframe tbody tr th:only-of-type {\n",
       "        vertical-align: middle;\n",
       "    }\n",
       "\n",
       "    .dataframe tbody tr th {\n",
       "        vertical-align: top;\n",
       "    }\n",
       "\n",
       "    .dataframe thead th {\n",
       "        text-align: right;\n",
       "    }\n",
       "</style>\n",
       "<table border=\"1\" class=\"dataframe\">\n",
       "  <thead>\n",
       "    <tr style=\"text-align: right;\">\n",
       "      <th></th>\n",
       "      <th>date</th>\n",
       "      <th>load_mw</th>\n",
       "      <th>wind_mw</th>\n",
       "      <th>solar_mw</th>\n",
       "      <th>total_vre_mw</th>\n",
       "      <th>critical_load_mw</th>\n",
       "      <th>critical_load_less_vre_mw</th>\n",
       "      <th>charge_surplus</th>\n",
       "    </tr>\n",
       "  </thead>\n",
       "  <tbody>\n",
       "    <tr>\n",
       "      <th>0</th>\n",
       "      <td>2017-01-01 00:00:01.000000</td>\n",
       "      <td>35.1</td>\n",
       "      <td>1.67966</td>\n",
       "      <td>0.0</td>\n",
       "      <td>1.67966</td>\n",
       "      <td>11.583</td>\n",
       "      <td>9.90334</td>\n",
       "      <td>0.0</td>\n",
       "    </tr>\n",
       "    <tr>\n",
       "      <th>1</th>\n",
       "      <td>2017-01-01 01:00:01.000000</td>\n",
       "      <td>35.1</td>\n",
       "      <td>1.67966</td>\n",
       "      <td>0.0</td>\n",
       "      <td>1.67966</td>\n",
       "      <td>11.583</td>\n",
       "      <td>9.90334</td>\n",
       "      <td>0.0</td>\n",
       "    </tr>\n",
       "    <tr>\n",
       "      <th>2</th>\n",
       "      <td>2017-01-01 02:00:01.000000</td>\n",
       "      <td>34.6</td>\n",
       "      <td>1.23327</td>\n",
       "      <td>0.0</td>\n",
       "      <td>1.23327</td>\n",
       "      <td>11.418</td>\n",
       "      <td>10.18473</td>\n",
       "      <td>0.0</td>\n",
       "    </tr>\n",
       "    <tr>\n",
       "      <th>3</th>\n",
       "      <td>2017-01-01 03:00:00.999999</td>\n",
       "      <td>34.2</td>\n",
       "      <td>1.09193</td>\n",
       "      <td>0.0</td>\n",
       "      <td>1.09193</td>\n",
       "      <td>11.286</td>\n",
       "      <td>10.19407</td>\n",
       "      <td>0.0</td>\n",
       "    </tr>\n",
       "    <tr>\n",
       "      <th>4</th>\n",
       "      <td>2017-01-01 04:00:00.999999</td>\n",
       "      <td>33.8</td>\n",
       "      <td>1.46510</td>\n",
       "      <td>0.0</td>\n",
       "      <td>1.46510</td>\n",
       "      <td>11.154</td>\n",
       "      <td>9.68890</td>\n",
       "      <td>0.0</td>\n",
       "    </tr>\n",
       "    <tr>\n",
       "      <th>...</th>\n",
       "      <td>...</td>\n",
       "      <td>...</td>\n",
       "      <td>...</td>\n",
       "      <td>...</td>\n",
       "      <td>...</td>\n",
       "      <td>...</td>\n",
       "      <td>...</td>\n",
       "      <td>...</td>\n",
       "    </tr>\n",
       "    <tr>\n",
       "      <th>8755</th>\n",
       "      <td>2017-12-31 19:00:00.998165</td>\n",
       "      <td>45.5</td>\n",
       "      <td>6.67250</td>\n",
       "      <td>0.0</td>\n",
       "      <td>6.67250</td>\n",
       "      <td>15.015</td>\n",
       "      <td>8.34250</td>\n",
       "      <td>0.0</td>\n",
       "    </tr>\n",
       "    <tr>\n",
       "      <th>8756</th>\n",
       "      <td>2017-12-31 20:00:00.998165</td>\n",
       "      <td>46.5</td>\n",
       "      <td>6.76534</td>\n",
       "      <td>0.0</td>\n",
       "      <td>6.76534</td>\n",
       "      <td>15.345</td>\n",
       "      <td>8.57966</td>\n",
       "      <td>0.0</td>\n",
       "    </tr>\n",
       "    <tr>\n",
       "      <th>8757</th>\n",
       "      <td>2017-12-31 21:00:00.998165</td>\n",
       "      <td>45.0</td>\n",
       "      <td>6.20556</td>\n",
       "      <td>0.0</td>\n",
       "      <td>6.20556</td>\n",
       "      <td>14.850</td>\n",
       "      <td>8.64444</td>\n",
       "      <td>0.0</td>\n",
       "    </tr>\n",
       "    <tr>\n",
       "      <th>8758</th>\n",
       "      <td>2017-12-31 22:00:00.998165</td>\n",
       "      <td>41.7</td>\n",
       "      <td>8.72619</td>\n",
       "      <td>0.0</td>\n",
       "      <td>8.72619</td>\n",
       "      <td>13.761</td>\n",
       "      <td>5.03481</td>\n",
       "      <td>0.0</td>\n",
       "    </tr>\n",
       "    <tr>\n",
       "      <th>8759</th>\n",
       "      <td>2017-12-31 23:00:00.998165</td>\n",
       "      <td>39.6</td>\n",
       "      <td>7.23441</td>\n",
       "      <td>0.0</td>\n",
       "      <td>7.23441</td>\n",
       "      <td>13.068</td>\n",
       "      <td>5.83359</td>\n",
       "      <td>0.0</td>\n",
       "    </tr>\n",
       "  </tbody>\n",
       "</table>\n",
       "<p>8760 rows × 8 columns</p>\n",
       "</div>"
      ],
      "text/plain": [
       "                           date  load_mw  wind_mw  solar_mw  total_vre_mw  \\\n",
       "0    2017-01-01 00:00:01.000000     35.1  1.67966       0.0       1.67966   \n",
       "1    2017-01-01 01:00:01.000000     35.1  1.67966       0.0       1.67966   \n",
       "2    2017-01-01 02:00:01.000000     34.6  1.23327       0.0       1.23327   \n",
       "3    2017-01-01 03:00:00.999999     34.2  1.09193       0.0       1.09193   \n",
       "4    2017-01-01 04:00:00.999999     33.8  1.46510       0.0       1.46510   \n",
       "...                         ...      ...      ...       ...           ...   \n",
       "8755 2017-12-31 19:00:00.998165     45.5  6.67250       0.0       6.67250   \n",
       "8756 2017-12-31 20:00:00.998165     46.5  6.76534       0.0       6.76534   \n",
       "8757 2017-12-31 21:00:00.998165     45.0  6.20556       0.0       6.20556   \n",
       "8758 2017-12-31 22:00:00.998165     41.7  8.72619       0.0       8.72619   \n",
       "8759 2017-12-31 23:00:00.998165     39.6  7.23441       0.0       7.23441   \n",
       "\n",
       "      critical_load_mw  critical_load_less_vre_mw  charge_surplus  \n",
       "0               11.583                    9.90334             0.0  \n",
       "1               11.583                    9.90334             0.0  \n",
       "2               11.418                   10.18473             0.0  \n",
       "3               11.286                   10.19407             0.0  \n",
       "4               11.154                    9.68890             0.0  \n",
       "...                ...                        ...             ...  \n",
       "8755            15.015                    8.34250             0.0  \n",
       "8756            15.345                    8.57966             0.0  \n",
       "8757            14.850                    8.64444             0.0  \n",
       "8758            13.761                    5.03481             0.0  \n",
       "8759            13.068                    5.83359             0.0  \n",
       "\n",
       "[8760 rows x 8 columns]"
      ]
     },
     "execution_count": 6,
     "metadata": {},
     "output_type": "execute_result"
    }
   ],
   "source": [
    "load_and_gen_df"
   ]
  },
  {
   "cell_type": "code",
   "execution_count": 5,
   "metadata": {},
   "outputs": [
    {
     "ename": "KeyError",
     "evalue": "'day_of_yr'",
     "output_type": "error",
     "traceback": [
      "\u001b[0;31m---------------------------------------------------------------------------\u001b[0m",
      "\u001b[0;31mKeyError\u001b[0m                                  Traceback (most recent call last)",
      "\u001b[0;32m~/.local/share/virtualenvs/aes-engy-692-ZsCbZRmA/lib/python3.6/site-packages/pandas/core/indexes/base.py\u001b[0m in \u001b[0;36mget_loc\u001b[0;34m(self, key, method, tolerance)\u001b[0m\n\u001b[1;32m   2645\u001b[0m             \u001b[0;32mtry\u001b[0m\u001b[0;34m:\u001b[0m\u001b[0;34m\u001b[0m\u001b[0m\n\u001b[0;32m-> 2646\u001b[0;31m                 \u001b[0;32mreturn\u001b[0m \u001b[0mself\u001b[0m\u001b[0;34m.\u001b[0m\u001b[0m_engine\u001b[0m\u001b[0;34m.\u001b[0m\u001b[0mget_loc\u001b[0m\u001b[0;34m(\u001b[0m\u001b[0mkey\u001b[0m\u001b[0;34m)\u001b[0m\u001b[0;34m\u001b[0m\u001b[0m\n\u001b[0m\u001b[1;32m   2647\u001b[0m             \u001b[0;32mexcept\u001b[0m \u001b[0mKeyError\u001b[0m\u001b[0;34m:\u001b[0m\u001b[0;34m\u001b[0m\u001b[0m\n",
      "\u001b[0;32mpandas/_libs/index.pyx\u001b[0m in \u001b[0;36mpandas._libs.index.IndexEngine.get_loc\u001b[0;34m()\u001b[0m\n",
      "\u001b[0;32mpandas/_libs/index.pyx\u001b[0m in \u001b[0;36mpandas._libs.index.IndexEngine.get_loc\u001b[0;34m()\u001b[0m\n",
      "\u001b[0;32mpandas/_libs/hashtable_class_helper.pxi\u001b[0m in \u001b[0;36mpandas._libs.hashtable.PyObjectHashTable.get_item\u001b[0;34m()\u001b[0m\n",
      "\u001b[0;32mpandas/_libs/hashtable_class_helper.pxi\u001b[0m in \u001b[0;36mpandas._libs.hashtable.PyObjectHashTable.get_item\u001b[0;34m()\u001b[0m\n",
      "\u001b[0;31mKeyError\u001b[0m: 'day_of_yr'",
      "\nDuring handling of the above exception, another exception occurred:\n",
      "\u001b[0;31mKeyError\u001b[0m                                  Traceback (most recent call last)",
      "\u001b[0;32m<ipython-input-5-a49d0157dd30>\u001b[0m in \u001b[0;36m<module>\u001b[0;34m\u001b[0m\n\u001b[1;32m      1\u001b[0m \u001b[0;32massert\u001b[0m \u001b[0mlen\u001b[0m\u001b[0;34m(\u001b[0m\u001b[0mload_and_gen_df\u001b[0m\u001b[0;34m)\u001b[0m \u001b[0;34m==\u001b[0m \u001b[0;36m8760\u001b[0m\u001b[0;34m,\u001b[0m \u001b[0;34m\"Expected one row per hour in year (8760), got {} rows\"\u001b[0m\u001b[0;34m.\u001b[0m\u001b[0mformat\u001b[0m\u001b[0;34m(\u001b[0m\u001b[0mlen\u001b[0m\u001b[0;34m(\u001b[0m\u001b[0mload_and_gen_df\u001b[0m\u001b[0;34m)\u001b[0m\u001b[0;34m)\u001b[0m\u001b[0;34m\u001b[0m\u001b[0m\n\u001b[1;32m      2\u001b[0m \u001b[0;34m\u001b[0m\u001b[0m\n\u001b[0;32m----> 3\u001b[0;31m \u001b[0;32mfor\u001b[0m \u001b[0mday_of_yr\u001b[0m \u001b[0;32min\u001b[0m \u001b[0mload_and_gen_df\u001b[0m\u001b[0;34m[\u001b[0m\u001b[0mday_of_yr_colname\u001b[0m\u001b[0;34m]\u001b[0m\u001b[0;34m.\u001b[0m\u001b[0munique\u001b[0m\u001b[0;34m(\u001b[0m\u001b[0;34m)\u001b[0m\u001b[0;34m:\u001b[0m\u001b[0;34m\u001b[0m\u001b[0m\n\u001b[0m\u001b[1;32m      4\u001b[0m     \u001b[0;32mif\u001b[0m \u001b[0mlen\u001b[0m\u001b[0;34m(\u001b[0m\u001b[0mload_and_gen_df\u001b[0m\u001b[0;34m[\u001b[0m\u001b[0mload_and_gen_df\u001b[0m\u001b[0;34m[\u001b[0m\u001b[0mday_of_yr_colname\u001b[0m\u001b[0;34m]\u001b[0m \u001b[0;34m==\u001b[0m \u001b[0mday_of_yr\u001b[0m\u001b[0;34m]\u001b[0m\u001b[0;34m)\u001b[0m \u001b[0;34m!=\u001b[0m \u001b[0;36m24\u001b[0m\u001b[0;34m:\u001b[0m\u001b[0;34m\u001b[0m\u001b[0m\n\u001b[1;32m      5\u001b[0m         \u001b[0mprint\u001b[0m\u001b[0;34m(\u001b[0m\u001b[0;34m\"Day {} has {} values\"\u001b[0m\u001b[0;34m.\u001b[0m\u001b[0mformat\u001b[0m\u001b[0;34m(\u001b[0m\u001b[0mday_of_yr\u001b[0m\u001b[0;34m,\u001b[0m \u001b[0mlen\u001b[0m\u001b[0;34m(\u001b[0m\u001b[0mload_and_gen_df\u001b[0m\u001b[0;34m[\u001b[0m\u001b[0mload_and_gen_df\u001b[0m\u001b[0;34m[\u001b[0m\u001b[0mday_of_yr_colname\u001b[0m\u001b[0;34m]\u001b[0m \u001b[0;34m==\u001b[0m \u001b[0mday_of_yr\u001b[0m\u001b[0;34m]\u001b[0m\u001b[0;34m)\u001b[0m\u001b[0;34m)\u001b[0m\u001b[0;34m)\u001b[0m\u001b[0;34m\u001b[0m\u001b[0m\n",
      "\u001b[0;32m~/.local/share/virtualenvs/aes-engy-692-ZsCbZRmA/lib/python3.6/site-packages/pandas/core/frame.py\u001b[0m in \u001b[0;36m__getitem__\u001b[0;34m(self, key)\u001b[0m\n\u001b[1;32m   2798\u001b[0m             \u001b[0;32mif\u001b[0m \u001b[0mself\u001b[0m\u001b[0;34m.\u001b[0m\u001b[0mcolumns\u001b[0m\u001b[0;34m.\u001b[0m\u001b[0mnlevels\u001b[0m \u001b[0;34m>\u001b[0m \u001b[0;36m1\u001b[0m\u001b[0;34m:\u001b[0m\u001b[0;34m\u001b[0m\u001b[0m\n\u001b[1;32m   2799\u001b[0m                 \u001b[0;32mreturn\u001b[0m \u001b[0mself\u001b[0m\u001b[0;34m.\u001b[0m\u001b[0m_getitem_multilevel\u001b[0m\u001b[0;34m(\u001b[0m\u001b[0mkey\u001b[0m\u001b[0;34m)\u001b[0m\u001b[0;34m\u001b[0m\u001b[0m\n\u001b[0;32m-> 2800\u001b[0;31m             \u001b[0mindexer\u001b[0m \u001b[0;34m=\u001b[0m \u001b[0mself\u001b[0m\u001b[0;34m.\u001b[0m\u001b[0mcolumns\u001b[0m\u001b[0;34m.\u001b[0m\u001b[0mget_loc\u001b[0m\u001b[0;34m(\u001b[0m\u001b[0mkey\u001b[0m\u001b[0;34m)\u001b[0m\u001b[0;34m\u001b[0m\u001b[0m\n\u001b[0m\u001b[1;32m   2801\u001b[0m             \u001b[0;32mif\u001b[0m \u001b[0mis_integer\u001b[0m\u001b[0;34m(\u001b[0m\u001b[0mindexer\u001b[0m\u001b[0;34m)\u001b[0m\u001b[0;34m:\u001b[0m\u001b[0;34m\u001b[0m\u001b[0m\n\u001b[1;32m   2802\u001b[0m                 \u001b[0mindexer\u001b[0m \u001b[0;34m=\u001b[0m \u001b[0;34m[\u001b[0m\u001b[0mindexer\u001b[0m\u001b[0;34m]\u001b[0m\u001b[0;34m\u001b[0m\u001b[0m\n",
      "\u001b[0;32m~/.local/share/virtualenvs/aes-engy-692-ZsCbZRmA/lib/python3.6/site-packages/pandas/core/indexes/base.py\u001b[0m in \u001b[0;36mget_loc\u001b[0;34m(self, key, method, tolerance)\u001b[0m\n\u001b[1;32m   2646\u001b[0m                 \u001b[0;32mreturn\u001b[0m \u001b[0mself\u001b[0m\u001b[0;34m.\u001b[0m\u001b[0m_engine\u001b[0m\u001b[0;34m.\u001b[0m\u001b[0mget_loc\u001b[0m\u001b[0;34m(\u001b[0m\u001b[0mkey\u001b[0m\u001b[0;34m)\u001b[0m\u001b[0;34m\u001b[0m\u001b[0m\n\u001b[1;32m   2647\u001b[0m             \u001b[0;32mexcept\u001b[0m \u001b[0mKeyError\u001b[0m\u001b[0;34m:\u001b[0m\u001b[0;34m\u001b[0m\u001b[0m\n\u001b[0;32m-> 2648\u001b[0;31m                 \u001b[0;32mreturn\u001b[0m \u001b[0mself\u001b[0m\u001b[0;34m.\u001b[0m\u001b[0m_engine\u001b[0m\u001b[0;34m.\u001b[0m\u001b[0mget_loc\u001b[0m\u001b[0;34m(\u001b[0m\u001b[0mself\u001b[0m\u001b[0;34m.\u001b[0m\u001b[0m_maybe_cast_indexer\u001b[0m\u001b[0;34m(\u001b[0m\u001b[0mkey\u001b[0m\u001b[0;34m)\u001b[0m\u001b[0;34m)\u001b[0m\u001b[0;34m\u001b[0m\u001b[0m\n\u001b[0m\u001b[1;32m   2649\u001b[0m         \u001b[0mindexer\u001b[0m \u001b[0;34m=\u001b[0m \u001b[0mself\u001b[0m\u001b[0;34m.\u001b[0m\u001b[0mget_indexer\u001b[0m\u001b[0;34m(\u001b[0m\u001b[0;34m[\u001b[0m\u001b[0mkey\u001b[0m\u001b[0;34m]\u001b[0m\u001b[0;34m,\u001b[0m \u001b[0mmethod\u001b[0m\u001b[0;34m=\u001b[0m\u001b[0mmethod\u001b[0m\u001b[0;34m,\u001b[0m \u001b[0mtolerance\u001b[0m\u001b[0;34m=\u001b[0m\u001b[0mtolerance\u001b[0m\u001b[0;34m)\u001b[0m\u001b[0;34m\u001b[0m\u001b[0m\n\u001b[1;32m   2650\u001b[0m         \u001b[0;32mif\u001b[0m \u001b[0mindexer\u001b[0m\u001b[0;34m.\u001b[0m\u001b[0mndim\u001b[0m \u001b[0;34m>\u001b[0m \u001b[0;36m1\u001b[0m \u001b[0;32mor\u001b[0m \u001b[0mindexer\u001b[0m\u001b[0;34m.\u001b[0m\u001b[0msize\u001b[0m \u001b[0;34m>\u001b[0m \u001b[0;36m1\u001b[0m\u001b[0;34m:\u001b[0m\u001b[0;34m\u001b[0m\u001b[0m\n",
      "\u001b[0;32mpandas/_libs/index.pyx\u001b[0m in \u001b[0;36mpandas._libs.index.IndexEngine.get_loc\u001b[0;34m()\u001b[0m\n",
      "\u001b[0;32mpandas/_libs/index.pyx\u001b[0m in \u001b[0;36mpandas._libs.index.IndexEngine.get_loc\u001b[0;34m()\u001b[0m\n",
      "\u001b[0;32mpandas/_libs/hashtable_class_helper.pxi\u001b[0m in \u001b[0;36mpandas._libs.hashtable.PyObjectHashTable.get_item\u001b[0;34m()\u001b[0m\n",
      "\u001b[0;32mpandas/_libs/hashtable_class_helper.pxi\u001b[0m in \u001b[0;36mpandas._libs.hashtable.PyObjectHashTable.get_item\u001b[0;34m()\u001b[0m\n",
      "\u001b[0;31mKeyError\u001b[0m: 'day_of_yr'"
     ]
    }
   ],
   "source": [
    "assert len(load_and_gen_df) == 8760, \"Expected one row per hour in year (8760), got {} rows\".format(len(load_and_gen_df))\n",
    "\n",
    "for day_of_yr in load_and_gen_df[day_of_yr_colname].unique():\n",
    "    if len(load_and_gen_df[load_and_gen_df[day_of_yr_colname] == day_of_yr]) != 24:\n",
    "        print(\"Day {} has {} values\".format(day_of_yr, len(load_and_gen_df[load_and_gen_df[day_of_yr_colname] == day_of_yr])))"
   ]
  },
  {
   "cell_type": "code",
   "execution_count": null,
   "metadata": {},
   "outputs": [],
   "source": [
    "load_and_gen_df[month_colname] = load_and_gen_df[date_colname].map(lambda x: x.month)\n",
    "load_and_gen_df[day_of_month_colname] = load_and_gen_df[date_colname].map(lambda x: x.day)\n",
    "load_and_gen_df[day_of_yr_colname] = load_and_gen_df[date_colname].map(lambda x: x.timetuple().tm_yday)"
   ]
  },
  {
   "cell_type": "markdown",
   "metadata": {},
   "source": [
    "## Determine resilient weeks\n",
    "<hr/>"
   ]
  },
  {
   "cell_type": "markdown",
   "metadata": {},
   "source": [
    "##### Three cases:\n",
    "* Maximum continuous 7-day load\n",
    "* Maximum continuous 7-day difference bt (`load` - `VRE`)\n",
    "* Week w maximum instantaneous demand"
   ]
  },
  {
   "cell_type": "code",
   "execution_count": null,
   "metadata": {},
   "outputs": [],
   "source": [
    "# group by day\n",
    "daily_load_df = load_and_gen_df.groupby(day_of_yr_colname)[[load_colname, total_vre_gen_colname]].sum().reset_index()"
   ]
  },
  {
   "cell_type": "code",
   "execution_count": null,
   "metadata": {},
   "outputs": [],
   "source": [
    "daily_load_df.head()"
   ]
  },
  {
   "cell_type": "code",
   "execution_count": null,
   "metadata": {},
   "outputs": [],
   "source": [
    "daily_load_vre_diff_colname"
   ]
  },
  {
   "cell_type": "code",
   "execution_count": null,
   "metadata": {},
   "outputs": [],
   "source": [
    "# diff bt load and vre gen\n",
    "daily_load_df[daily_load_vre_diff_colname] = daily_load_df[load_colname] - daily_load_df[total_vre_gen_colname]\n",
    "\n",
    "# critical load (percentage of total load)\n",
    "daily_load_df[critical_load_mw_colname] = daily_load_df[load_colname] * critical_load_perc\n",
    "\n",
    "# critical load minus vre gen\n",
    "daily_load_df[critical_load_less_vre_colname] = daily_load_df[critical_load_mw_colname] - daily_load_df[total_vre_gen_colname]\n",
    "\n",
    "# if vre gen > critical load, can use that to charge battery\n",
    "daily_load_df[charge_surplus_colname] = - daily_load_df[critical_load_less_vre_colname]\n",
    "\n",
    "# remove negatives of columns that can't go less than 0\n",
    "daily_load_df[critical_load_less_vre_colname] = daily_load_df[critical_load_less_vre_colname]\\\n",
    "    .map(lambda x: x if x > 0 else 0)\n",
    "daily_load_df[charge_surplus_colname] = daily_load_df[charge_surplus_colname]\\\n",
    "    .map(lambda x: x if x > 0 else 0)"
   ]
  },
  {
   "cell_type": "markdown",
   "metadata": {},
   "source": [
    "### Function to create \"lookback\" columns\n",
    "For any given day, we want to know the previous week's [load, load - vre, etc.]. `sum_prev_rows` calculates these types of columns. Default is a week lookback, but this can be an argument passed into the function."
   ]
  },
  {
   "cell_type": "code",
   "execution_count": null,
   "metadata": {},
   "outputs": [],
   "source": [
    "def sum_prev_rows(row, df, lookback_colname, agg_colname, days = 7):\n",
    "\n",
    "    start_idx = row[lookback_colname] - days \n",
    "        \n",
    "    return_val = df.loc[start_idx:row[lookback_colname] - 1, agg_colname].sum() if start_idx >= 0 else None\n",
    "    \n",
    "    return return_val"
   ]
  },
  {
   "cell_type": "code",
   "execution_count": null,
   "metadata": {},
   "outputs": [],
   "source": [
    "daily_load_df[prev_7_load_colname] = daily_load_df\\\n",
    "    .apply(sum_prev_rows, axis=1, args=(daily_load_df, day_of_yr_colname, load_colname,))\n",
    "\n",
    "daily_load_df[prev_7_load_vre_diff_colname] = daily_load_df\\\n",
    "    .apply(sum_prev_rows, axis=1, args=(daily_load_df, day_of_yr_colname, daily_load_vre_diff_colname,))\n",
    "\n",
    "daily_load_df[prev_7_vre_gen_colname] = daily_load_df\\\n",
    "    .apply(sum_prev_rows, axis=1, args=(daily_load_df, day_of_yr_colname, total_vre_gen_colname,))\n",
    "\n",
    "# critical daily load\n",
    "daily_load_df[critical_load_mw_colname] = daily_load_df[load_colname] * critical_load_perc "
   ]
  },
  {
   "cell_type": "code",
   "execution_count": null,
   "metadata": {},
   "outputs": [],
   "source": [
    "daily_load_df.head(10)"
   ]
  },
  {
   "cell_type": "markdown",
   "metadata": {},
   "source": [
    "### Find the day numbers that represent our three resilience cases"
   ]
  },
  {
   "cell_type": "code",
   "execution_count": null,
   "metadata": {},
   "outputs": [],
   "source": [
    "resilience_case_load_daynum = daily_load_df[daily_load_df[prev_7_load_colname] == daily_load_df[prev_7_load_colname].max()].to_dict('r')[0][day_of_yr_colname]\n",
    "resilience_case_vre_load_diff_daynum = daily_load_df[daily_load_df[prev_7_load_vre_diff_colname] == daily_load_df[prev_7_load_vre_diff_colname].max()].to_dict('r')[0][day_of_yr_colname]\n",
    "resilience_case_max_demand_daynum = load_and_gen_df[load_and_gen_df[load_colname] == load_and_gen_df[load_colname].max()].to_dict('r')[0][day_of_yr_colname]\n",
    "\n",
    "#resilience_case_max_demand = daily_load_df[daily_load_df[load_colname] == daily_load_df[load_colname].max()]"
   ]
  },
  {
   "cell_type": "markdown",
   "metadata": {},
   "source": [
    "### Create function that calculates new columns needed to make battery sizing decisions\n",
    "* What would the battery size be if we sized it to be able to handle the max cumulative discharge in a given week?"
   ]
  },
  {
   "cell_type": "code",
   "execution_count": null,
   "metadata": {},
   "outputs": [],
   "source": [
    "def add_storage_input_cols(df, daynum, solar_scaling_factor = 1, wind_scaling_factor = 1):\n",
    "    \n",
    "    decorated_df = df.copy()\n",
    "    \n",
    "    decorated_df = decorated_df[\n",
    "        (decorated_df[day_of_yr_colname] <= daynum)\n",
    "        & (decorated_df[day_of_yr_colname] >= daynum - 6)\n",
    "    ]\n",
    "    \n",
    "    decorated_df = decorated_df.reset_index(drop=True)\n",
    "    \n",
    "    decorated_df.sort_values(date_colname)\n",
    "    decorated_df[cuml_load_since_prev_charge_colname] = None\n",
    "    \n",
    "    for idx, row in decorated_df.iterrows():\n",
    "        \n",
    "        if idx == 0:\n",
    "            val = row[critical_load_less_vre_colname]\n",
    "        elif row[critical_load_less_vre_colname] > 0:\n",
    "            val = decorated_df.loc[idx - 1, cuml_load_since_prev_charge_colname] + row[critical_load_less_vre_colname]\n",
    "        else:\n",
    "            val = 0\n",
    "            \n",
    "        decorated_df.at[idx, cuml_load_since_prev_charge_colname] = val\n",
    "        \n",
    "    return decorated_df"
   ]
  },
  {
   "cell_type": "code",
   "execution_count": null,
   "metadata": {},
   "outputs": [],
   "source": [
    "resil_max_week_load_df = add_storage_input_cols(load_and_gen_df, resilience_case_load_daynum)\n",
    "resil_vre_load_diff_df = add_storage_input_cols(load_and_gen_df, resilience_case_vre_load_diff_daynum)\n",
    "resil_max_demand_df = add_storage_input_cols(load_and_gen_df, resilience_case_max_demand_daynum)"
   ]
  },
  {
   "cell_type": "code",
   "execution_count": null,
   "metadata": {},
   "outputs": [],
   "source": [
    "max_battery_discharge_keyname = \"max_battery_discharge\"\n",
    "max_battery_charge_keyname = \"max_battery_charge\"\n",
    "max_capacity_mwh_keyname = \"max_capacity_mwh\"\n",
    "batt_power_mw_keyname = \"batt_power_mw\" \n",
    "batt_energy_mwh_keyname = \"batt_energy_mwh\" \n",
    "weekly_battery_discharge_mwh_keyname = \"weekly_battery_discharge_mwh\" \n",
    "excess_gen_avail_mwh_keyname = \"excess_gen_avail_mwh\"\n",
    "min_charge_at_blackout_keyname = \"min_charge_at_blackout\"\n",
    "\n",
    "def get_battery_characteristics(df):\n",
    "\n",
    "    max_battery_discharge = df[critical_load_less_vre_colname].max()\n",
    "    max_battery_charge = df[charge_surplus_colname].max()\n",
    "    batt_power_mw = max([max_battery_charge, max_battery_discharge])\n",
    "    \n",
    "    max_capacity_mwh = df[cuml_load_since_prev_charge_colname].max()\n",
    "    weekly_battery_discharge_mwh = df[critical_load_less_vre_colname].sum()\n",
    "    excess_gen_avail_mwh = df[charge_surplus_colname].sum()\n",
    "    min_charge_at_blackout = weekly_battery_discharge_mwh - excess_gen_avail_mwh\n",
    "    batt_energy_mwh = max([max_capacity_mwh, min_charge_at_blackout])\n",
    "    \n",
    "    battery_characteristics = {\n",
    "        max_battery_discharge_keyname : max_battery_discharge,\n",
    "        max_battery_charge_keyname : max_battery_charge,\n",
    "        max_capacity_mwh_keyname : max_capacity_mwh,\n",
    "        batt_power_mw_keyname : batt_power_mw,\n",
    "        batt_energy_mwh_keyname :batt_energy_mwh,\n",
    "        weekly_battery_discharge_mwh_keyname : weekly_battery_discharge_mwh,\n",
    "        excess_gen_avail_mwh_keyname : excess_gen_avail_mwh,\n",
    "        min_charge_at_blackout_keyname : min_charge_at_blackout\n",
    "    }\n",
    "    \n",
    "    return battery_characteristics\n"
   ]
  },
  {
   "cell_type": "code",
   "execution_count": null,
   "metadata": {},
   "outputs": [],
   "source": [
    "resil_max_week_load_characteristics = get_battery_characteristics(resil_max_week_load_df)\n",
    "resil_vre_load_diff_characteristics = get_battery_characteristics(resil_vre_load_diff_df)\n",
    "resil_max_demand_characteristics = get_battery_characteristics(resil_max_demand_df)"
   ]
  },
  {
   "cell_type": "code",
   "execution_count": null,
   "metadata": {},
   "outputs": [],
   "source": [
    "def calc_soc_cols(df, config):\n",
    "    \n",
    "    decorated_df = df.copy()\n",
    "    batt_energy_mwh = config[batt_energy_mwh_keyname]\n",
    "    \n",
    "    decorated_df[battery_soc_colname] = None\n",
    "    decorated_df.reset_index(drop=True)\n",
    "    \n",
    "    for idx, row in decorated_df.iterrows():\n",
    "        \n",
    "        if idx == 0:\n",
    "            val = batt_energy_mwh - row[critical_load_less_vre_colname] + row[charge_surplus_colname]\n",
    "        else:\n",
    "            charge = decorated_df.loc[idx - 1, battery_soc_colname] - row[critical_load_less_vre_colname] + row[charge_surplus_colname] \n",
    "            val = charge if charge < batt_energy_mwh else batt_energy_mwh\n",
    "            \n",
    "        decorated_df.at[idx, battery_soc_colname] = val\n",
    "    \n",
    "    return decorated_df"
   ]
  },
  {
   "cell_type": "code",
   "execution_count": null,
   "metadata": {},
   "outputs": [],
   "source": [
    "resil_max_week_load_w_soc_df = calc_soc_cols(resil_max_week_load_df, resil_max_week_load_characteristics)\n",
    "resil_vre_load_diff_w_soc_df = calc_soc_cols(resil_vre_load_diff_df, resil_vre_load_diff_characteristics)\n",
    "resil_max_demand_w_soc_df = calc_soc_cols(resil_max_demand_df, resil_max_demand_characteristics)\n"
   ]
  },
  {
   "cell_type": "code",
   "execution_count": null,
   "metadata": {},
   "outputs": [],
   "source": [
    "resil_vre_load_diff_w_soc_df"
   ]
  },
  {
   "cell_type": "code",
   "execution_count": null,
   "metadata": {},
   "outputs": [],
   "source": []
  }
 ],
 "metadata": {
  "kernelspec": {
   "display_name": "Python 3",
   "language": "python",
   "name": "python3"
  },
  "language_info": {
   "codemirror_mode": {
    "name": "ipython",
    "version": 3
   },
   "file_extension": ".py",
   "mimetype": "text/x-python",
   "name": "python",
   "nbconvert_exporter": "python",
   "pygments_lexer": "ipython3",
   "version": "3.6.5"
  }
 },
 "nbformat": 4,
 "nbformat_minor": 2
}
