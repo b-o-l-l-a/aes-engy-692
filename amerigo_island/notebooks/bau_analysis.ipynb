{
 "cells": [
  {
   "cell_type": "code",
   "execution_count": null,
   "metadata": {},
   "outputs": [],
   "source": [
    "import os\n",
    "from openpyxl import load_workbook\n",
    "import pandas as pd\n",
    "\n",
    "BASE_DIR = os.path.dirname(os.path.dirname(os.path.abspath('')))\n",
    "DATA_DIR = os.path.join(BASE_DIR, 'amerigo_island', 'data')\n",
    "\n",
    "xls_filename = 'load_and_generation.xlsx'\n",
    "xls_sheetname = 'Combined Data'\n",
    "header_col_num = 1 "
   ]
  },
  {
   "cell_type": "code",
   "execution_count": null,
   "metadata": {},
   "outputs": [],
   "source": [
    "wb = load_workbook(os.path.join(DATA_DIR, xls_filename), data_only=True)\n",
    "ws = wb[xls_sheetname]\n",
    "\n",
    "ws_vals = [row for row in ws.values]\n",
    "ws_colnames = ws_vals[header_col_num]\n",
    "\n",
    "load_and_gen_df = pd.DataFrame(data= ws_vals[header_col_num + 1:], columns= ws_colnames)\n",
    "load_and_gen_df.columns = ['date', 'load_mw', 'gen_wind_mw', 'gen_solar_mw', 'gen_thermal_total_mw', 'gen_thermal_rice_mw', 'gen_thermal_combustion_mw']\n",
    "load_and_gen_df = load_and_gen_df[['date', 'load_mw', 'gen_wind_mw', 'gen_solar_mw']]\n",
    "load_and_gen_df.describe()"
   ]
  },
  {
   "cell_type": "code",
   "execution_count": null,
   "metadata": {},
   "outputs": [],
   "source": [
    "load_and_gen_df['gen_solar_mw'] = load_and_gen_df['gen_solar_mw'].apply(lambda x: x if x > 0 else 0)\n",
    "load_and_gen_df['gen_thermal_total_mw'] = load_and_gen_df['load_mw'] - load_and_gen_df['gen_wind_mw'] - load_and_gen_df['gen_solar_mw']\n",
    "load_and_gen_df['gen_thermal_total_kwh'] = load_and_gen_df['gen_thermal_total_mw'] * 1000\n",
    "load_and_gen_df.describe()"
   ]
  },
  {
   "cell_type": "code",
   "execution_count": null,
   "metadata": {},
   "outputs": [],
   "source": [
    "'''\n",
    "values for RICE taken from: https://www.eergy.gov/sites/prod/files/2016/09/f33/CHP-Recip%20Engines.pdf\n",
    "assumed to be System #5 in paper above, for two reasons:\n",
    "- System #5 has highest capacity\n",
    "- System #5 has O&M similar to what is specified in assignment\n",
    "'''\n",
    "therm_rice_config = {\n",
    "    \"o_and_m\" : .0105, # in cents / kwh\n",
    "    \"nominal_heat_rate_btu\" : 9827, # in BTU / kWh\n",
    "    \"fuel_cost\" : 2.50, # in $ / gallon\n",
    "    \"thermal_efficiency\" : .35,\n",
    "    \"electric_efficiency\" : .419,\n",
    "    \"total_efficiency\" : .769,\n",
    "    \"column_prepend\" : \"rice\"\n",
    "}"
   ]
  },
  {
   "cell_type": "code",
   "execution_count": null,
   "metadata": {},
   "outputs": [],
   "source": [
    "'''\n",
    "values for combustion engine taken from: https://www.epa.gov/sites/production/files/2015-07/documents/catalog_of_chp_technologies_section_3._technology_characterization_-_combustion_turbines.pdf\n",
    "Specifically, Table 3-2. \n",
    "Numbers reflect System #1 in paper above, for two reasons:\n",
    "- System #1 has closest electric heat rate to what is specified in assignment PDF\n",
    "'''\n",
    "therm_combustion_config = {\n",
    "    \"o_and_m\" : .0046, # in $ / kWh\n",
    "    \"nominal_heat_rate_btu\" : 17680, # in BTU / kWh \n",
    "    \"fuel_cost\" : 2.50, # in $ / gallon\n",
    "    \"thermal_efficiency\" : .42,\n",
    "    \"electric_efficiency\" : .24,\n",
    "    \"total_efficiency\" : .657,\n",
    "    \"column_prepend\" : \"combustion\"\n",
    "}"
   ]
  },
  {
   "cell_type": "code",
   "execution_count": null,
   "metadata": {},
   "outputs": [],
   "source": [
    "def standardize_units_of_config(config):\n",
    "    \n",
    "    config[\"nominal_heat_rate_gal\"] = config[\"nominal_heat_rate_btu\"] / 139_000 # specified in assignment\n",
    "    \n",
    "    return config\n",
    "    "
   ]
  },
  {
   "cell_type": "code",
   "execution_count": null,
   "metadata": {},
   "outputs": [],
   "source": [
    "therm_combustion_config = standardize_units_of_config(therm_combustion_config)\n",
    "therm_rice_config = standardize_units_of_config(therm_rice_config)\n",
    "\n",
    "print(\"--- RICE config:\\n{}\\n\".format(therm_rice_config))\n",
    "print(\"--- Combustion config:\\n{}\\n\".format(therm_combustion_config))"
   ]
  },
  {
   "cell_type": "code",
   "execution_count": null,
   "metadata": {},
   "outputs": [],
   "source": [
    "def calc_addtl_cols(df, config):\n",
    "    \n",
    "    decorated_df = df.copy()\n",
    "    efficiency_key = 'total_efficiency'\n",
    "    \n",
    "    col_prepend = config['column_prepend']\n",
    "    o_and_m = config['o_and_m']\n",
    "    nominal_heat_rate_gal = config['nominal_heat_rate_gal']\n",
    "    fuel_cost = config['fuel_cost']\n",
    "    efficiency = config[efficiency_key]\n",
    "    \n",
    "    decorated_df['{}_fuel_cost'.format(col_prepend)] = decorated_df['gen_thermal_total_kwh'] * nominal_heat_rate_gal * fuel_cost\n",
    "    decorated_df['{}_o_and_m_cost'.format(col_prepend)] = decorated_df['gen_thermal_total_kwh'] * o_and_m\n",
    "    decorated_df['{}_total_cost'.format(col_prepend)] = decorated_df['{}_o_and_m_cost'.format(col_prepend)] + decorated_df['{}_fuel_cost'.format(col_prepend)]\n",
    "    \n",
    "    return decorated_df\n",
    "    "
   ]
  },
  {
   "cell_type": "code",
   "execution_count": null,
   "metadata": {},
   "outputs": [],
   "source": [
    "load_and_gen_df_decorated = calc_addtl_cols(load_and_gen_df, therm_rice_config)\n",
    "load_and_gen_df_decorated = calc_addtl_cols(load_and_gen_df_decorated, therm_combustion_config)"
   ]
  },
  {
   "cell_type": "code",
   "execution_count": null,
   "metadata": {},
   "outputs": [],
   "source": [
    "load_and_gen_df_decorated.to_csv(os.path.join(DATA_DIR, \"bau.csv\"), index=False)"
   ]
  },
  {
   "cell_type": "code",
   "execution_count": null,
   "metadata": {},
   "outputs": [],
   "source": [
    "load_and_gen_df_decorated[\"cheaper_gen\"] = load_and_gen_df_decorated.apply(lambda x: \"rice\" if x['rice_total_cost'] < x['combustion_total_cost'] else \"combustion\", axis=1)"
   ]
  },
  {
   "cell_type": "code",
   "execution_count": null,
   "metadata": {},
   "outputs": [],
   "source": [
    "load_and_gen_df_decorated['rice_total_cost'].describe()"
   ]
  },
  {
   "cell_type": "code",
   "execution_count": null,
   "metadata": {},
   "outputs": [],
   "source": [
    "load_and_gen_df_decorated['rice_total_cost'].sum()"
   ]
  },
  {
   "cell_type": "code",
   "execution_count": null,
   "metadata": {},
   "outputs": [],
   "source": [
    "load_and_gen_df_decorated['gen_thermal_total_kwh'].sum() / 8760"
   ]
  },
  {
   "cell_type": "markdown",
   "metadata": {},
   "source": [
    "~$50M seems like a reasonable cost for 31MW of capacity, according to this site: https://www.power-eng.com/2017/04/18/questions-and-considerations-for-rice-generation-facilities/\n",
    "\n",
    "This is only a quick, gut check though. Will find more resources to verify sanity of this number"
   ]
  }
 ],
 "metadata": {
  "kernelspec": {
   "display_name": "Python 3",
   "language": "python",
   "name": "python3"
  },
  "language_info": {
   "codemirror_mode": {
    "name": "ipython",
    "version": 3
   },
   "file_extension": ".py",
   "mimetype": "text/x-python",
   "name": "python",
   "nbconvert_exporter": "python",
   "pygments_lexer": "ipython3",
   "version": "3.8.2"
  }
 },
 "nbformat": 4,
 "nbformat_minor": 4
}
