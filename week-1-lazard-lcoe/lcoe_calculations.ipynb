{
 "cells": [
  {
   "cell_type": "markdown",
   "metadata": {},
   "source": [
    "#### Import third-party libraries needed to run calculations"
   ]
  },
  {
   "cell_type": "code",
   "execution_count": 1,
   "metadata": {},
   "outputs": [],
   "source": [
    "import pandas as pd\n",
    "import numpy as np"
   ]
  },
  {
   "cell_type": "markdown",
   "metadata": {},
   "source": [
    "#### Provide assumptions applicable to all energy generation technologies\n",
    "These are the assumptions applicable to all energy generation technologies in the Lazard report"
   ]
  },
  {
   "cell_type": "code",
   "execution_count": 2,
   "metadata": {},
   "outputs": [],
   "source": [
    "perc_debt = .6\n",
    "discount_rate = .08\n",
    "o_and_m_growth_rate = .0225\n",
    "irr = .12"
   ]
  },
  {
   "cell_type": "markdown",
   "metadata": {},
   "source": [
    "#### Provide configuration specific to each energy generation technology\n",
    "\n",
    "There are two configs for wind: One based on [Lazard's 2019 LCOE report](https://www.lazard.com/media/451086/lazards-levelized-cost-of-energy-version-130-vf.pdf) and another based on [the Corporate Finance Institute's](https://corporatefinanceinstitute.com/resources/knowledge/finance/levelized-cost-of-energy-lcoe/) spreadsheet which used Lazard's 2018 report as a reference\n",
    "\n",
    "**Notes** \n",
    "* Only (onshore) wind is provided here. \n",
    "* The config options for **Lazard** are more comprehensive, and therefore more complicated. Specifically, it allows you to calculate a range of LCOE. \n",
    "* The **CFI** config simplifies this to provide one LCOE estimate instead of a range, and does not include plant capacity, capacity factor, O&M costs per MWh, and initial investment per kW. Instead, it provides annual electricity generation of the plant, total initial investment, and total O&M costs.\n",
    "* The shared config options between **CFI** and **Lazard** include `construction_time` (in months), `facility_life` (in years), `fuel_cost` (per year), and `o_and_m_growth_rate` (per year)"
   ]
  },
  {
   "cell_type": "code",
   "execution_count": 3,
   "metadata": {},
   "outputs": [],
   "source": [
    "wind_config_lazard = {\n",
    "    \"capacity_factor_low\" : .38,      # perc: 0 to 1\n",
    "    \"capacity_factor_high\" : .55,     # perc: 0 to 1\n",
    "    \"construction_time\" : 12,         # months\n",
    "    \"facility_life\" : 20,             # years\n",
    "    \"fuel_cost\" : 0,                  # float\n",
    "    \"o_and_m_low\" : 28.,              # $/MWh\n",
    "    \"o_and_m_high\" : 36.5,            # $/MWh\n",
    "    \"o_and_m_growth_rate\" : .0225,    # perc: 0 to 1\n",
    "    \"plant_capacity\" : 150,           # MW\n",
    "    \"total_capital_cost_low\" : 1100,  # $/kW\n",
    "    \"total_capital_cost_high\" : 1500, # $/kW\n",
    "}\n",
    "\n",
    "wind_config_cfi = {\n",
    "    \"annual_elec_output\" : 3000.,     # in kWh\n",
    "    \"construction_time\" : 12,         # months\n",
    "    \"facility_life\" : 10,             # years\n",
    "    \"fuel_cost\" : 0,                  # float\n",
    "    \"o_and_m_costs\" : 100.,           # in $1,000\n",
    "    \"o_and_m_growth_rate\" : .02,      # perc: 0 to 1\n",
    "    \"init_investment\" : 1500,         # in $1000s\n",
    "}\n",
    "\n"
   ]
  },
  {
   "cell_type": "markdown",
   "metadata": {},
   "source": [
    "## Simplified LCOE Calc"
   ]
  },
  {
   "cell_type": "code",
   "execution_count": 6,
   "metadata": {},
   "outputs": [],
   "source": [
    "def lcoe_calc_simplified(config):\n",
    "    \n",
    "    construction_time_in_months = config['construction_time']\n",
    "    init_investment = config['init_investment']\n",
    "    annual_fuel_costs = config['fuel_cost']\n",
    "    annual_elec_output = config['annual_elec_output']\n",
    "    o_and_m_costs = config['o_and_m_costs']\n",
    "    o_and_m_growth_rate = config['o_and_m_growth_rate']\n",
    "    project_lifetime_in_yrs = config['facility_life']\n",
    "    \n",
    "    total_npv_costs = init_investment\n",
    "    total_npv_output = 0\n",
    "    \n",
    "    construction_time_in_yrs = float(construction_time_in_months) / float(12)\n",
    "    \n",
    "    for i in np.arange(construction_time_in_yrs, project_lifetime_in_yrs):\n",
    "        years_since_proj_start = i + 1 # python index starts at 0, increment by 1 to make calcs for each subsequent yr\n",
    "        years_operational = i + 1 - construction_time_in_yrs \n",
    "        accum_discount_rate = 1. / ((1 + float(discount_rate)) ** years_since_proj_start) \n",
    "\n",
    "        #### Start: COSTS s ####\n",
    "        annual_o_and_m_costs = o_and_m_costs + annual_fuel_costs \\\n",
    "            if years_operational == 1 \\\n",
    "            else (1 + o_and_m_growth_rate) * annual_o_and_m_costs\n",
    "\n",
    "    #     if years_operational == 1: # first year operational\n",
    "    #         annual_o_and_m_costs = o_and_m_costs + annual_fuel_costs\n",
    "    #  \n",
    "    #     else : # each subsequent yr\n",
    "    #         annual_o_and_m_costs = (1 + o_and_m_growth_rate) * annual_o_and_m_costs\n",
    "\n",
    "        annual_o_and_m_costs_w_fuel = annual_o_and_m_costs + annual_fuel_costs\n",
    "        annual_npv_costs = annual_o_and_m_costs_w_fuel * accum_discount_rate\n",
    "        total_npv_costs += annual_npv_costs\n",
    "        #### End: COSTS ####\n",
    "\n",
    "        #### Start: OUTPUT ####\n",
    "        annual_npv_output = (annual_elec_output * accum_discount_rate)\n",
    "        total_npv_output += annual_npv_output\n",
    "        \n",
    "    lcoe_float = total_npv_costs / total_npv_output \n",
    "    lcoe_string = '${:,.2f}/kWh'.format(lcoe_float)\n",
    "    \n",
    "    return_obj = {\n",
    "        \"npv_costs\" : total_npv_costs,\n",
    "        \"npv_output\" : total_npv_output,\n",
    "        \"lcoe\" : lcoe_float,\n",
    "        \"lcoe_string\" : lcoe_string\n",
    "    }\n",
    "    return return_obj"
   ]
  },
  {
   "cell_type": "code",
   "execution_count": 7,
   "metadata": {},
   "outputs": [
    {
     "name": "stdout",
     "output_type": "stream",
     "text": [
      "\n",
      "    Over the 10 year lifespan of the plant producing 3000.0 kWH per year once operational, \n",
      "the total NPV of costs was $2,120.61 while the NPV of revenue from electricity generation was $17,352.47.\n",
      "    \n",
      "    Therefore, the LCOE of this hypothetical plant is $0.12/kWh.\n",
      "\n"
     ]
    }
   ],
   "source": [
    "lcoe_obj = lcoe_calc_simplified(wind_config_cfi)\n",
    "\n",
    "facility_lifespan = wind_config_cfi['facility_life']\n",
    "annual_elec_gen = wind_config_cfi['annual_elec_output']\n",
    "total_npv_costs = '${:,.2f}'.format(lcoe_obj['npv_costs'])\n",
    "total_npv_output = '${:,.2f}'.format(lcoe_obj['npv_output'])\n",
    "lcoe_per_kwh = lcoe_obj['lcoe_string']\n",
    "\n",
    "summary_string = \"\"\"\n",
    "    Over the {facility_lifespan} year lifespan of the plant producing {annual_elec_gen} kWH per year once operational, \n",
    "the total NPV of costs was {total_npv_costs} while the NPV of revenue from electricity generation was {total_npv_output}.\n",
    "    \n",
    "    Therefore, the LCOE of this hypothetical plant is {lcoe_per_kwh}.\n",
    "\"\"\".format(**locals())\n",
    "print(summary_string)"
   ]
  },
  {
   "cell_type": "markdown",
   "metadata": {},
   "source": [
    "## Full LCOE Calc"
   ]
  },
  {
   "cell_type": "code",
   "execution_count": null,
   "metadata": {},
   "outputs": [],
   "source": [
    "def lcoe_calc_simplified(config):\n",
    "    \n",
    "    return lcoe"
   ]
  }
 ],
 "metadata": {
  "kernelspec": {
   "display_name": "Python 3",
   "language": "python",
   "name": "python3"
  },
  "language_info": {
   "codemirror_mode": {
    "name": "ipython",
    "version": 3
   },
   "file_extension": ".py",
   "mimetype": "text/x-python",
   "name": "python",
   "nbconvert_exporter": "python",
   "pygments_lexer": "ipython3",
   "version": "3.7.0"
  }
 },
 "nbformat": 4,
 "nbformat_minor": 2
}
