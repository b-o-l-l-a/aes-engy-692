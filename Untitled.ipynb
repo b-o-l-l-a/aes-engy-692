{
 "cells": [
  {
   "cell_type": "code",
   "execution_count": 1,
   "metadata": {},
   "outputs": [],
   "source": [
    "degradation_rate = .015\n",
    "panel_lifespan = 25\n",
    "system_output_yr_1 = 8999."
   ]
  },
  {
   "cell_type": "code",
   "execution_count": 20,
   "metadata": {},
   "outputs": [
    {
     "name": "stdout",
     "output_type": "stream",
     "text": [
      "year 0: 8999\n",
      "year 1: 8864.015\n",
      "year 2: 8731.054774999999\n",
      "year 3: 8600.088953374998\n",
      "year 4: 8471.087619074373\n",
      "year 5: 8344.021304788257\n",
      "year 6: 8218.860985216434\n",
      "year 7: 8095.578070438187\n",
      "year 8: 7974.144399381614\n",
      "year 9: 7854.53223339089\n",
      "year 10: 7736.714249890027\n",
      "year 11: 7620.663536141677\n",
      "year 12: 7506.3535830995515\n",
      "year 13: 7393.758279353058\n",
      "year 14: 7282.851905162763\n",
      "year 15: 7173.609126585321\n",
      "year 16: 7066.004989686541\n",
      "year 17: 6960.014914841243\n",
      "year 18: 6855.614691118624\n",
      "year 19: 6752.780470751845\n",
      "year 20: 6651.488763690568\n",
      "year 21: 6551.716432235209\n",
      "year 22: 6453.440685751681\n",
      "year 23: 6356.639075465406\n",
      "year 24: 6261.289489333425\n"
     ]
    }
   ],
   "source": [
    "total_output = 0\n",
    "yearly_system_output = system_output_yr_1\n",
    "for yr in range(0, panel_lifespan):\n",
    "    print(\"year {}: {}\".format(yr, yearly_system_output))\n",
    "    yearly_system_output = yearly_system_output - (yearly_system_output * degradation_rate)\n",
    "    total_output += yearly_system_output"
   ]
  },
  {
   "cell_type": "code",
   "execution_count": 19,
   "metadata": {},
   "outputs": [
    {
     "data": {
      "text/plain": [
       "7437.747747230605"
      ]
     },
     "execution_count": 19,
     "metadata": {},
     "output_type": "execute_result"
    }
   ],
   "source": [
    "total_output  / panel_lifespan"
   ]
  },
  {
   "cell_type": "code",
   "execution_count": null,
   "metadata": {},
   "outputs": [],
   "source": []
  }
 ],
 "metadata": {
  "kernelspec": {
   "display_name": "Python 3",
   "language": "python",
   "name": "python3"
  },
  "language_info": {
   "codemirror_mode": {
    "name": "ipython",
    "version": 3
   },
   "file_extension": ".py",
   "mimetype": "text/x-python",
   "name": "python",
   "nbconvert_exporter": "python",
   "pygments_lexer": "ipython3",
   "version": "3.7.0"
  }
 },
 "nbformat": 4,
 "nbformat_minor": 4
}
